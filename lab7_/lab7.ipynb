{
 "cells": [
  {
   "cell_type": "code",
   "execution_count": 1,
   "metadata": {},
   "outputs": [],
   "source": [
    "import pandas as pd\n",
    "from pylab import *\n",
    "%matplotlib inline\n",
    "\n",
    "df = pd.DataFrame({'a': [1, 2, 3, 4], 'b': ['w', 'x', 'y', 'z']})"
   ]
  },
  {
   "cell_type": "code",
   "execution_count": 2,
   "metadata": {},
   "outputs": [
    {
     "name": "stdout",
     "output_type": "stream",
     "text": [
      "   a  b\n",
      "0  1  w\n",
      "1  2  x\n",
      "2  3  y\n",
      "3  4  z\n"
     ]
    }
   ],
   "source": [
    "print(df)"
   ]
  },
  {
   "cell_type": "code",
   "execution_count": 3,
   "metadata": {},
   "outputs": [
    {
     "name": "stdout",
     "output_type": "stream",
     "text": [
      "<class 'pandas.core.frame.DataFrame'>\n",
      "RangeIndex: 4 entries, 0 to 3\n",
      "Data columns (total 2 columns):\n",
      "a    4 non-null int64\n",
      "b    4 non-null object\n",
      "dtypes: int64(1), object(1)\n",
      "memory usage: 144.0+ bytes\n",
      "None\n"
     ]
    }
   ],
   "source": [
    "print(df.info())"
   ]
  },
  {
   "cell_type": "code",
   "execution_count": 4,
   "metadata": {},
   "outputs": [
    {
     "name": "stdout",
     "output_type": "stream",
     "text": [
      "   a  b\n",
      "0  1  w\n",
      "1  2  x\n"
     ]
    }
   ],
   "source": [
    "print(df.head(2))"
   ]
  },
  {
   "cell_type": "code",
   "execution_count": 5,
   "metadata": {},
   "outputs": [
    {
     "name": "stdout",
     "output_type": "stream",
     "text": [
      "   a  b\n",
      "1  2  x\n",
      "2  3  y\n"
     ]
    }
   ],
   "source": [
    "print(df[1:3])"
   ]
  },
  {
   "cell_type": "code",
   "execution_count": 6,
   "metadata": {},
   "outputs": [
    {
     "name": "stdout",
     "output_type": "stream",
     "text": [
      "              a\n",
      "count  4.000000\n",
      "mean   2.500000\n",
      "std    1.290994\n",
      "min    1.000000\n",
      "25%    1.750000\n",
      "50%    2.500000\n",
      "75%    3.250000\n",
      "max    4.000000\n"
     ]
    }
   ],
   "source": [
    "print(df.describe())"
   ]
  },
  {
   "cell_type": "code",
   "execution_count": 7,
   "metadata": {
    "scrolled": true
   },
   "outputs": [],
   "source": [
    "log_df = pd.read_csv('D:/programming/code/jetbrains/py/data-sci/lab7_/wc_day6_1_sample.csv',\n",
    "                     names=['ClientID', 'Date', 'Time', 'URL', 'ResponseCode', 'Size'],\n",
    "                     na_values='-',\n",
    "                     encoding='ansi')"
   ]
  },
  {
   "cell_type": "code",
   "execution_count": 8,
   "metadata": {},
   "outputs": [
    {
     "name": "stdout",
     "output_type": "stream",
     "text": [
      "0    False\n",
      "1     True\n",
      "Name: Date, dtype: bool\n",
      "   ClientID         Date      Time                                    URL  \\\n",
      "1     10871  01/May/1998  12:10:53                      /images/ligne.gif   \n",
      "2     11012  01/May/1998  12:17:30  /english/individuals/player111503.htm   \n",
      "3     11435  01/May/1998  13:15:13                   /french/frntpage.htm   \n",
      "4     12128  01/May/1998  13:30:21    /english/images/nav_sitemap_off.gif   \n",
      "5     13649  01/May/1998  14:55:01                 /images/hm_anime_e.gif   \n",
      "\n",
      "   ResponseCode     Size  \n",
      "1         200.0    169.0  \n",
      "2         200.0   7027.0  \n",
      "3         304.0      0.0  \n",
      "4         304.0      NaN  \n",
      "5         200.0  15609.0  \n"
     ]
    }
   ],
   "source": [
    "is_may1st = log_df['Date'] == '01/May/1998'\n",
    "print(is_may1st.head(2))\n",
    "\n",
    "may1_df = log_df[is_may1st]\n",
    "print(may1_df.head())"
   ]
  },
  {
   "cell_type": "code",
   "execution_count": 9,
   "metadata": {},
   "outputs": [
    {
     "name": "stdout",
     "output_type": "stream",
     "text": [
      "                                     URL  ResponseCode\n",
      "0                      /images/11104.gif         200.0\n",
      "1                      /images/ligne.gif         200.0\n",
      "2  /english/individuals/player111503.htm         200.0\n",
      "3                   /french/frntpage.htm         304.0\n",
      "4    /english/images/nav_sitemap_off.gif         304.0\n"
     ]
    }
   ],
   "source": [
    "url_codes = log_df[['URL', 'ResponseCode']]\n",
    "print(url_codes.head(5))"
   ]
  },
  {
   "cell_type": "code",
   "execution_count": 10,
   "metadata": {},
   "outputs": [
    {
     "name": "stdout",
     "output_type": "stream",
     "text": [
      "<pandas.core.groupby.groupby.DataFrameGroupBy object at 0x00000133743F1D68>\n"
     ]
    }
   ],
   "source": [
    "grouped = log_df.groupby('ResponseCode')\n",
    "print(grouped)  # grouped 是 DataFrameGroupBy，他包含多个 DataFrame, 类似于 字典，一个key对应一个DF"
   ]
  },
  {
   "cell_type": "code",
   "execution_count": 11,
   "metadata": {},
   "outputs": [
    {
     "name": "stdout",
     "output_type": "stream",
     "text": [
      "dict_keys([200.0, 206.0, 302.0, 304.0, 400.0, 404.0, 500.0])\n",
      "   ClientID         Date      Time                                    URL  \\\n",
      "0      1044  30/Apr/1998  22:46:12                      /images/11104.gif   \n",
      "1     10871  01/May/1998  12:10:53                      /images/ligne.gif   \n",
      "2     11012  01/May/1998  12:17:30  /english/individuals/player111503.htm   \n",
      "5     13649  01/May/1998  14:55:01                 /images/hm_anime_e.gif   \n",
      "6     15006  01/May/1998  16:14:32  /english/images/comp_bu_group_off.gif   \n",
      "\n",
      "   ResponseCode     Size  \n",
      "0         200.0    508.0  \n",
      "1         200.0    169.0  \n",
      "2         200.0   7027.0  \n",
      "5         200.0  15609.0  \n",
      "6         200.0   1557.0  \n"
     ]
    }
   ],
   "source": [
    "grouped.ngroups\n",
    "print(grouped.groups.keys())\n",
    "print(grouped.get_group(200).head())"
   ]
  },
  {
   "cell_type": "code",
   "execution_count": 12,
   "metadata": {},
   "outputs": [],
   "source": [
    "# to_datetime 将一个字符串转化为一个时间对象\n",
    "# apply -> 对每一行执行方法，axis=1 每一行 axis=0 每一列\n",
    "log_df['DateTime'] = pd.to_datetime(\n",
    "    log_df.apply(lambda row: row['Date'] + ' ' + row['Time'], axis=1))"
   ]
  },
  {
   "cell_type": "code",
   "execution_count": 17,
   "metadata": {},
   "outputs": [
    {
     "name": "stdout",
     "output_type": "stream",
     "text": [
      "    ClientID         Date      Time  \\\n",
      "0       1044  30/Apr/1998  22:46:12   \n",
      "1      10871  01/May/1998  12:10:53   \n",
      "2      11012  01/May/1998  12:17:30   \n",
      "5      13649  01/May/1998  14:55:01   \n",
      "6      15006  01/May/1998  16:14:32   \n",
      "7      16366  01/May/1998  17:14:13   \n",
      "8      16877  01/May/1998  17:46:37   \n",
      "9      17165  01/May/1998  17:58:46   \n",
      "10     17251  01/May/1998  18:06:07   \n",
      "11      1734  01/May/1998  12:57:32   \n",
      "\n",
      "                                                  URL  ResponseCode     Size  \\\n",
      "0                                   /images/11104.gif         200.0    508.0   \n",
      "1                                   /images/ligne.gif         200.0    169.0   \n",
      "2               /english/individuals/player111503.htm         200.0   7027.0   \n",
      "5                              /images/hm_anime_e.gif         200.0  15609.0   \n",
      "6               /english/images/comp_bu_group_off.gif         200.0   1557.0   \n",
      "7                                  /images/arw_lk.gif         200.0    669.0   \n",
      "8                                /images/32p49807.jpg         200.0  13856.0   \n",
      "9                          /images/home_fr_button.gif         200.0   2140.0   \n",
      "10                                /images/s102438.gif         200.0    297.0   \n",
      "11  /english/venues/cities/images/paris/21hundred.gif         200.0    318.0   \n",
      "\n",
      "              DateTime  \n",
      "0  1998-04-30 22:46:12  \n",
      "1  1998-05-01 12:10:53  \n",
      "2  1998-05-01 12:17:30  \n",
      "5  1998-05-01 14:55:01  \n",
      "6  1998-05-01 16:14:32  \n",
      "7  1998-05-01 17:14:13  \n",
      "8  1998-05-01 17:46:37  \n",
      "9  1998-05-01 17:58:46  \n",
      "10 1998-05-01 18:06:07  \n",
      "11 1998-05-01 12:57:32  \n",
      "Size    8441.722091\n",
      "dtype: float64\n",
      "Size    81966.548843\n",
      "dtype: float64\n"
     ]
    }
   ],
   "source": [
    "code200 = grouped.get_group(200)\n",
    "print(code200[['Size']].mean(axis=0))\n",
    "print(code200[['Size']].std(axis=0))"
   ]
  },
  {
   "cell_type": "code",
   "execution_count": 17,
   "metadata": {},
   "outputs": [],
   "source": []
  }
 ],
 "metadata": {
  "kernelspec": {
   "display_name": "Python 3",
   "language": "python",
   "name": "python3"
  },
  "language_info": {
   "codemirror_mode": {
    "name": "ipython",
    "version": 3
   },
   "file_extension": ".py",
   "mimetype": "text/x-python",
   "name": "python",
   "nbconvert_exporter": "python",
   "pygments_lexer": "ipython3",
   "version": "3.6.7"
  }
 },
 "nbformat": 4,
 "nbformat_minor": 1
}
