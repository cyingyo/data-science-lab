{
 "cells": [
  {
   "cell_type": "code",
   "execution_count": 1,
   "metadata": {},
   "outputs": [
    {
     "name": "stderr",
     "output_type": "stream",
     "text": [
      "ERROR:lml.utils:failed to import pyecharts_snapshot\n",
      "Traceback (most recent call last):\n",
      "  File \"D:\\programming\\compiler\\Anaconda3\\envs\\datasci\\lib\\site-packages\\lml\\utils.py\", line 43, in do_import\n",
      "    plugin_module = __import__(plugin_module_name)\n",
      "ModuleNotFoundError: No module named 'pyecharts_snapshot'\n"
     ]
    }
   ],
   "source": [
    "from lab1 import jobs, job_detail, com_detail\n",
    "from pylab import mpl\n",
    "\n",
    "import numpy as np\n",
    "import pandas as pd\n",
    "import matplotlib.pyplot as plt\n",
    "import seaborn as sns\n",
    "import pyecharts\n",
    "plt.style.use('ggplot')\n",
    "%matplotlib inline\n",
    "\n",
    "mpl.rcParams['font.sans-serif'] = ['SimHei']  # 解决seaborn中文字体显示问题\n",
    "plt.rc('figure', figsize=(10, 10))  # 把plt默认的图片size调大一点"
   ]
  },
  {
   "cell_type": "code",
   "execution_count": 2,
   "metadata": {},
   "outputs": [],
   "source": [
    "data_job = pd.DataFrame(list(job_detail.find()))\n",
    "del data_job['_id']"
   ]
  },
  {
   "cell_type": "code",
   "execution_count": 3,
   "metadata": {},
   "outputs": [
    {
     "data": {
      "text/plain": [
       "address                                                中国卫星通信大厦\n",
       "attraction                       免费三餐，租房补贴，休闲下午茶，过亿用户，职业大牛，晋升空间\n",
       "chance                                                       面议\n",
       "city                                                         北京\n",
       "cname                                                      字节跳动\n",
       "collected                                                     0\n",
       "cuuid                                          com_tyju1cjdpntm\n",
       "day                                                           5\n",
       "degree                                                       本科\n",
       "delivered                                                     0\n",
       "endtime                                              2019-01-23\n",
       "ftype                                                         1\n",
       "iname                                        今日头条/抖音&火山大数据开发实习生\n",
       "industry                                                  移动互联网\n",
       "info          <p>【今日头条】诚招大数据开发实习生&nbsp;<span></span> </p><p>...\n",
       "invited                                                       0\n",
       "is_hr                                                     False\n",
       "logo          https://sxsimg.xiaoyuanzhao.com/69/8D/69D89E01...\n",
       "maxsal                                                      500\n",
       "mina_url          pages/zwDetail/zwDetail?uuid=inn_mcimhorh1fg3\n",
       "minsal                                                      400\n",
       "month                                                         4\n",
       "overdue                                                       0\n",
       "refresh                                     2018-12-24 10:13:24\n",
       "reslan                                                       中文\n",
       "scale                                                   2000人以上\n",
       "url           https://www.shixiseng.com/intern/inn_mcimhorh1fg3\n",
       "Name: 222, dtype: object"
      ]
     },
     "execution_count": 3,
     "metadata": {},
     "output_type": "execute_result"
    }
   ],
   "source": [
    "data_job.loc[222]"
   ]
  },
  {
   "cell_type": "code",
   "execution_count": 4,
   "metadata": {},
   "outputs": [
    {
     "name": "stdout",
     "output_type": "stream",
     "text": [
      "<class 'pandas.core.frame.DataFrame'>\n",
      "RangeIndex: 449 entries, 0 to 448\n",
      "Data columns (total 27 columns):\n",
      "address       449 non-null object\n",
      "attraction    449 non-null object\n",
      "chance        449 non-null object\n",
      "city          449 non-null object\n",
      "cname         449 non-null object\n",
      "collected     449 non-null object\n",
      "cuuid         449 non-null object\n",
      "day           449 non-null int64\n",
      "degree        449 non-null object\n",
      "delivered     449 non-null object\n",
      "endtime       449 non-null object\n",
      "ftype         449 non-null object\n",
      "iname         449 non-null object\n",
      "industry      449 non-null object\n",
      "info          449 non-null object\n",
      "invited       449 non-null object\n",
      "is_hr         449 non-null bool\n",
      "logo          449 non-null object\n",
      "maxsal        449 non-null object\n",
      "mina_url      449 non-null object\n",
      "minsal        449 non-null object\n",
      "month         449 non-null int64\n",
      "overdue       449 non-null object\n",
      "refresh       449 non-null object\n",
      "reslan        449 non-null object\n",
      "scale         449 non-null object\n",
      "url           449 non-null object\n",
      "dtypes: bool(1), int64(2), object(24)\n",
      "memory usage: 91.7+ KB\n"
     ]
    }
   ],
   "source": [
    "data_job.info()"
   ]
  },
  {
   "cell_type": "code",
   "execution_count": 5,
   "metadata": {},
   "outputs": [
    {
     "name": "stdout",
     "output_type": "stream",
     "text": [
      "<class 'pandas.core.frame.DataFrame'>\n",
      "RangeIndex: 449 entries, 0 to 448\n",
      "Data columns (total 18 columns):\n",
      "address       449 non-null object\n",
      "attraction    449 non-null object\n",
      "chance        449 non-null object\n",
      "city          449 non-null object\n",
      "cname         449 non-null object\n",
      "day           449 non-null int64\n",
      "degree        449 non-null object\n",
      "endtime       449 non-null object\n",
      "iname         449 non-null object\n",
      "industry      449 non-null object\n",
      "info          449 non-null object\n",
      "maxsal        449 non-null object\n",
      "minsal        449 non-null object\n",
      "month         449 non-null int64\n",
      "overdue       449 non-null object\n",
      "refresh       449 non-null object\n",
      "reslan        449 non-null object\n",
      "scale         449 non-null object\n",
      "dtypes: int64(2), object(16)\n",
      "memory usage: 63.2+ KB\n"
     ]
    }
   ],
   "source": [
    "data_clean = data_job.drop(['collected', 'cuuid', 'delivered', 'ftype', \n",
    "                             'invited', 'is_hr', 'logo', 'mina_url', 'url'], axis = 1)\n",
    "data_clean.info()"
   ]
  },
  {
   "cell_type": "code",
   "execution_count": 6,
   "metadata": {},
   "outputs": [
    {
     "data": {
      "text/html": [
       "<div>\n",
       "<style scoped>\n",
       "    .dataframe tbody tr th:only-of-type {\n",
       "        vertical-align: middle;\n",
       "    }\n",
       "\n",
       "    .dataframe tbody tr th {\n",
       "        vertical-align: top;\n",
       "    }\n",
       "\n",
       "    .dataframe thead th {\n",
       "        text-align: right;\n",
       "    }\n",
       "</style>\n",
       "<table border=\"1\" class=\"dataframe\">\n",
       "  <thead>\n",
       "    <tr style=\"text-align: right;\">\n",
       "      <th></th>\n",
       "      <th>address</th>\n",
       "      <th>attraction</th>\n",
       "      <th>chance</th>\n",
       "      <th>city</th>\n",
       "      <th>cname</th>\n",
       "      <th>day</th>\n",
       "      <th>degree</th>\n",
       "      <th>endtime</th>\n",
       "      <th>iname</th>\n",
       "      <th>industry</th>\n",
       "      <th>info</th>\n",
       "      <th>maxsal</th>\n",
       "      <th>minsal</th>\n",
       "      <th>month</th>\n",
       "      <th>overdue</th>\n",
       "      <th>refresh</th>\n",
       "      <th>reslan</th>\n",
       "      <th>scale</th>\n",
       "    </tr>\n",
       "  </thead>\n",
       "  <tbody>\n",
       "    <tr>\n",
       "      <th>44</th>\n",
       "      <td>中国卫星通信大厦</td>\n",
       "      <td>免费三餐，租房补贴，休闲下午茶，过亿用户，职业大牛，晋升空间</td>\n",
       "      <td>面议</td>\n",
       "      <td>北京</td>\n",
       "      <td>字节跳动</td>\n",
       "      <td>4</td>\n",
       "      <td>不限</td>\n",
       "      <td>2019-01-08</td>\n",
       "      <td>今日头条(抖音&amp;火山)大数据开发实习生</td>\n",
       "      <td>移动互联网</td>\n",
       "      <td>&lt;p&gt;【今日头条】诚招大数据开发实习生&amp;nbsp;&lt;span&gt;&lt;/span&gt; &lt;/p&gt;&lt;p&gt;...</td>\n",
       "      <td>0</td>\n",
       "      <td>0</td>\n",
       "      <td>4</td>\n",
       "      <td>0</td>\n",
       "      <td>2018-12-29 10:44:47</td>\n",
       "      <td>中文</td>\n",
       "      <td>2000人以上</td>\n",
       "    </tr>\n",
       "    <tr>\n",
       "      <th>200</th>\n",
       "      <td>上海市徐汇区枫林路485号6号楼</td>\n",
       "      <td>认真、负责、绩效好的优秀实习生有留任转正机会</td>\n",
       "      <td>可转正</td>\n",
       "      <td>上海</td>\n",
       "      <td>Kantar Media CIC</td>\n",
       "      <td>4</td>\n",
       "      <td>本科</td>\n",
       "      <td>2018-12-30</td>\n",
       "      <td>大数据处理实习生ETL Intern</td>\n",
       "      <td>市场调研</td>\n",
       "      <td>&lt;p&gt;&lt;span&gt;工作职责：&lt;/span&gt;&lt;span&gt;&lt;/span&gt; &lt;/p&gt;&lt;p&gt;&lt;spa...</td>\n",
       "      <td>0</td>\n",
       "      <td>0</td>\n",
       "      <td>4</td>\n",
       "      <td>0</td>\n",
       "      <td>2018-12-24 11:32:11</td>\n",
       "      <td>中文</td>\n",
       "      <td>150-500人</td>\n",
       "    </tr>\n",
       "    <tr>\n",
       "      <th>360</th>\n",
       "      <td>网易北京研发中心</td>\n",
       "      <td>网易新闻</td>\n",
       "      <td>面议</td>\n",
       "      <td>北京</td>\n",
       "      <td>网易</td>\n",
       "      <td>5</td>\n",
       "      <td>不限</td>\n",
       "      <td>2019-04-11</td>\n",
       "      <td>大数据平台后端开发实习生</td>\n",
       "      <td>互联网</td>\n",
       "      <td>大数据平台后端开发实习生 1名&lt;br&gt; 工作内容&lt;br&gt; 1、 负责海量大数据平台的后端软件...</td>\n",
       "      <td>0</td>\n",
       "      <td>0</td>\n",
       "      <td>7</td>\n",
       "      <td>0</td>\n",
       "      <td>2018-11-26 12:58:41</td>\n",
       "      <td>中文</td>\n",
       "      <td>2000人以上</td>\n",
       "    </tr>\n",
       "    <tr>\n",
       "      <th>310</th>\n",
       "      <td>上海市徐汇区</td>\n",
       "      <td>大数据公司  专业平台 发展前景</td>\n",
       "      <td>面议</td>\n",
       "      <td>上海</td>\n",
       "      <td>wisers</td>\n",
       "      <td>3</td>\n",
       "      <td>本科</td>\n",
       "      <td>2019-01-29</td>\n",
       "      <td>媒体管理部实习生</td>\n",
       "      <td>计算机/互联网</td>\n",
       "      <td>&lt;strong&gt;该职位接受寒假实习。&lt;/strong&gt;&lt;br&gt;&lt;br&gt;&lt;p&gt;工作内容：&lt;sp...</td>\n",
       "      <td>0</td>\n",
       "      <td>0</td>\n",
       "      <td>13</td>\n",
       "      <td>0</td>\n",
       "      <td>2018-12-12 10:51:13</td>\n",
       "      <td>中文</td>\n",
       "      <td>500-2000人</td>\n",
       "    </tr>\n",
       "    <tr>\n",
       "      <th>260</th>\n",
       "      <td>中航广场头条矮楼</td>\n",
       "      <td>薪酬400/天，有房补，免费三餐和下午茶。</td>\n",
       "      <td>可转正</td>\n",
       "      <td>北京</td>\n",
       "      <td>字节跳动</td>\n",
       "      <td>5</td>\n",
       "      <td>不限</td>\n",
       "      <td>2019-08-31</td>\n",
       "      <td>后端开发实习生-数据平台</td>\n",
       "      <td>移动互联网</td>\n",
       "      <td>&lt;div&gt;职位描述：职位描述\\r\\n1、负责数据平台产品的功能迭代、性能优化；\\r\\n2、参...</td>\n",
       "      <td>0</td>\n",
       "      <td>0</td>\n",
       "      <td>5</td>\n",
       "      <td>0</td>\n",
       "      <td>2018-12-19 18:21:15</td>\n",
       "      <td>中文</td>\n",
       "      <td>2000人以上</td>\n",
       "    </tr>\n",
       "  </tbody>\n",
       "</table>\n",
       "</div>"
      ],
      "text/plain": [
       "              address                      attraction chance city  \\\n",
       "44           中国卫星通信大厦  免费三餐，租房补贴，休闲下午茶，过亿用户，职业大牛，晋升空间     面议   北京   \n",
       "200  上海市徐汇区枫林路485号6号楼          认真、负责、绩效好的优秀实习生有留任转正机会    可转正   上海   \n",
       "360          网易北京研发中心                            网易新闻     面议   北京   \n",
       "310            上海市徐汇区                大数据公司  专业平台 发展前景     面议   上海   \n",
       "260          中航广场头条矮楼           薪酬400/天，有房补，免费三餐和下午茶。    可转正   北京   \n",
       "\n",
       "                cname  day degree     endtime                iname industry  \\\n",
       "44               字节跳动    4     不限  2019-01-08  今日头条(抖音&火山)大数据开发实习生    移动互联网   \n",
       "200  Kantar Media CIC    4     本科  2018-12-30   大数据处理实习生ETL Intern     市场调研   \n",
       "360                网易    5     不限  2019-04-11         大数据平台后端开发实习生      互联网   \n",
       "310            wisers    3     本科  2019-01-29             媒体管理部实习生  计算机/互联网   \n",
       "260              字节跳动    5     不限  2019-08-31         后端开发实习生-数据平台    移动互联网   \n",
       "\n",
       "                                                  info maxsal minsal  month  \\\n",
       "44   <p>【今日头条】诚招大数据开发实习生&nbsp;<span></span> </p><p>...      0      0      4   \n",
       "200  <p><span>工作职责：</span><span></span> </p><p><spa...      0      0      4   \n",
       "360  大数据平台后端开发实习生 1名<br> 工作内容<br> 1、 负责海量大数据平台的后端软件...      0      0      7   \n",
       "310  <strong>该职位接受寒假实习。</strong><br><br><p>工作内容：<sp...      0      0     13   \n",
       "260  <div>职位描述：职位描述\\r\\n1、负责数据平台产品的功能迭代、性能优化；\\r\\n2、参...      0      0      5   \n",
       "\n",
       "    overdue              refresh reslan      scale  \n",
       "44        0  2018-12-29 10:44:47     中文    2000人以上  \n",
       "200       0  2018-12-24 11:32:11     中文   150-500人  \n",
       "360       0  2018-11-26 12:58:41     中文    2000人以上  \n",
       "310       0  2018-12-12 10:51:13     中文  500-2000人  \n",
       "260       0  2018-12-19 18:21:15     中文    2000人以上  "
      ]
     },
     "execution_count": 6,
     "metadata": {},
     "output_type": "execute_result"
    }
   ],
   "source": [
    "data_clean[data_clean['maxsal'] == '0'].sample(5)"
   ]
  },
  {
   "cell_type": "code",
   "execution_count": 7,
   "metadata": {
    "scrolled": true
   },
   "outputs": [
    {
     "data": {
      "text/plain": [
       "array(['150-500人', '500-2000人', '50-150人', '少于15人', '2000人以上', '15-50人',\n",
       "       ''], dtype=object)"
      ]
     },
     "execution_count": 7,
     "metadata": {},
     "output_type": "execute_result"
    }
   ],
   "source": [
    "data_clean.scale.unique()"
   ]
  },
  {
   "cell_type": "code",
   "execution_count": 8,
   "metadata": {},
   "outputs": [],
   "source": [
    "data_clean.loc[data_job['scale'] == '少于15人', 'scale'] = '小型企业'\n",
    "data_clean.loc[data_job['scale'] == '15-50人', 'scale'] = '小型企业'\n",
    "data_clean.loc[data_job['scale'] == '50-150人', 'scale'] = '小型企业'\n",
    "data_clean.loc[data_job['scale'] == '150-500人', 'scale'] = '中型企业'\n",
    "data_clean.loc[data_job['scale'] == '500-2000人', 'scale'] = '中型企业'\n",
    "data_clean.loc[data_job['scale'] == '2000人以上', 'scale'] = '大型企业'\n",
    "data_clean.loc[data_job['scale'] == '5000人以上', 'scale'] = '大型企业'\n",
    "data_clean.loc[data_job['scale'].isna(), 'scale'] = np.nan"
   ]
  },
  {
   "cell_type": "code",
   "execution_count": 9,
   "metadata": {},
   "outputs": [
    {
     "data": {
      "text/plain": [
       "array(['广州', '北京', '宁波', '南京', '武汉', '杭州', '上海', '成都', '长沙', '北京,上海,昆山',\n",
       "       '深圳', '沈阳', '哈尔滨', '西安', '厦门', '福州', '大连', '苏州', '重庆', '郑州', '珠海',\n",
       "       '天津', '北京,郑州,济南', '合肥', '无锡', '全国', '北京,成都', '上海,合肥,杭州', '南宁',\n",
       "       '东莞', '攀枝花', '甘孜', '石家庄', '北京,上海,广州', ',杭州,北京', '青岛', '北京,武汉,成都',\n",
       "       '长春', '北京,青岛', '济南', '昆山', '佛山', '北京,天津,太原,昆明,呼和浩特', '苏州,无锡,武汉',\n",
       "       '海口', ',上海', '北京,上海'], dtype=object)"
      ]
     },
     "execution_count": 9,
     "metadata": {},
     "output_type": "execute_result"
    }
   ],
   "source": [
    "data_clean.city.unique()"
   ]
  },
  {
   "cell_type": "code",
   "execution_count": 10,
   "metadata": {},
   "outputs": [],
   "source": [
    "data_clean.loc[data_clean['city'] == '北京,上海,昆山', 'city'] = '北京'\n",
    "data_clean.loc[data_clean['city'] == '北京,郑州,济南', 'city'] = '北京'\n",
    "data_clean.loc[data_clean['city'] == '北京,成都', 'city'] = '北京'\n",
    "data_clean.loc[data_clean['city'] == '上海,合肥,杭州', 'city'] = '上海'\n",
    "data_clean.loc[data_clean['city'] == '北京,上海,广州', 'city'] = '北京'\n",
    "data_clean.loc[data_clean['city'] == ',杭州,北京', 'city'] = '杭州'\n",
    "data_clean.loc[data_clean['city'] == '北京,青岛', 'city'] = '北京'\n",
    "data_clean.loc[data_clean['city'] == '北京,武汉,成都', 'city'] = '北京'\n",
    "data_clean.loc[data_clean['city'] == '北京,天津,太原,昆明,呼和浩特', 'city'] = '北京'\n",
    "data_clean.loc[data_clean['city'] == '苏州,无锡,武汉', 'city'] = '苏州'\n",
    "data_clean.loc[data_clean['city'] == '北京,上海', 'city'] = '北京'\n",
    "data_clean.loc[data_clean['city'] == ',上海', 'city'] = '上海'"
   ]
  },
  {
   "cell_type": "code",
   "execution_count": 11,
   "metadata": {},
   "outputs": [
    {
     "data": {
      "text/plain": [
       "array(['广州', '北京', '宁波', '南京', '武汉', '杭州', '上海', '成都', '长沙', '深圳', '沈阳',\n",
       "       '哈尔滨', '西安', '厦门', '福州', '大连', '苏州', '重庆', '郑州', '珠海', '天津', '合肥',\n",
       "       '无锡', '全国', '南宁', '东莞', '攀枝花', '甘孜', '石家庄', '青岛', '长春', '济南', '昆山',\n",
       "       '佛山', '海口'], dtype=object)"
      ]
     },
     "execution_count": 11,
     "metadata": {},
     "output_type": "execute_result"
    }
   ],
   "source": [
    "data_clean.city.unique()"
   ]
  },
  {
   "cell_type": "code",
   "execution_count": 12,
   "metadata": {},
   "outputs": [],
   "source": [
    "data_clean['maxsal'] = pd.to_numeric(data_clean['maxsal'])\n",
    "data_clean['minsal'] = pd.to_numeric(data_clean['minsal'])"
   ]
  },
  {
   "cell_type": "code",
   "execution_count": 13,
   "metadata": {},
   "outputs": [
    {
     "data": {
      "text/plain": [
       "北京    179\n",
       "上海    100\n",
       "广州     25\n",
       "南京     24\n",
       "深圳     23\n",
       "成都     21\n",
       "杭州     19\n",
       "武汉      6\n",
       "福州      5\n",
       "大连      4\n",
       "西安      3\n",
       "全国      3\n",
       "合肥      3\n",
       "宁波      3\n",
       "苏州      3\n",
       "Name: city, dtype: int64"
      ]
     },
     "execution_count": 13,
     "metadata": {},
     "output_type": "execute_result"
    }
   ],
   "source": [
    "city = data_clean['city'].value_counts()\n",
    "city[:15]"
   ]
  },
  {
   "cell_type": "code",
   "execution_count": 14,
   "metadata": {
    "scrolled": false
   },
   "outputs": [
    {
     "data": {
      "text/html": [
       "<script>\n",
       "    require.config({\n",
       "        paths: {\n",
       "            'echarts': '/nbextensions/echarts/echarts.min'\n",
       "        }\n",
       "    });\n",
       "</script>\n",
       "    <div id=\"7a9c36227c3f4650b6dcfe22c22c3dae\" style=\"width:800px;height:400px;\"></div>\n",
       "\n",
       "\n",
       "<script>\n",
       "    require(['echarts'], function(echarts) {\n",
       "        \n",
       "var myChart_7a9c36227c3f4650b6dcfe22c22c3dae = echarts.init(document.getElementById('7a9c36227c3f4650b6dcfe22c22c3dae'), 'light', {renderer: 'canvas'});\n",
       "\n",
       "var option_7a9c36227c3f4650b6dcfe22c22c3dae = {\n",
       "    \"title\": [\n",
       "        {\n",
       "            \"text\": \"\\u57ce\\u5e02\\u4e0e\\u804c\\u4f4d\\u6570\\u91cf\",\n",
       "            \"left\": \"auto\",\n",
       "            \"top\": \"auto\",\n",
       "            \"textStyle\": {\n",
       "                \"fontSize\": 18\n",
       "            },\n",
       "            \"subtextStyle\": {\n",
       "                \"fontSize\": 12\n",
       "            }\n",
       "        }\n",
       "    ],\n",
       "    \"toolbox\": {\n",
       "        \"show\": true,\n",
       "        \"orient\": \"vertical\",\n",
       "        \"left\": \"95%\",\n",
       "        \"top\": \"center\",\n",
       "        \"feature\": {\n",
       "            \"saveAsImage\": {\n",
       "                \"show\": true,\n",
       "                \"title\": \"save as image\"\n",
       "            },\n",
       "            \"restore\": {\n",
       "                \"show\": true,\n",
       "                \"title\": \"restore\"\n",
       "            },\n",
       "            \"dataView\": {\n",
       "                \"show\": true,\n",
       "                \"title\": \"data view\"\n",
       "            }\n",
       "        }\n",
       "    },\n",
       "    \"series_id\": 7352147,\n",
       "    \"tooltip\": {\n",
       "        \"trigger\": \"item\",\n",
       "        \"triggerOn\": \"mousemove|click\",\n",
       "        \"axisPointer\": {\n",
       "            \"type\": \"line\"\n",
       "        },\n",
       "        \"textStyle\": {\n",
       "            \"fontSize\": 14\n",
       "        },\n",
       "        \"backgroundColor\": \"rgba(50,50,50,0.7)\",\n",
       "        \"borderColor\": \"#333\",\n",
       "        \"borderWidth\": 0\n",
       "    },\n",
       "    \"series\": [\n",
       "        {\n",
       "            \"type\": \"bar\",\n",
       "            \"data\": [\n",
       "                179.0,\n",
       "                100.0,\n",
       "                25.0,\n",
       "                24.0,\n",
       "                23.0,\n",
       "                21.0,\n",
       "                19.0,\n",
       "                6.0,\n",
       "                5.0,\n",
       "                4.0,\n",
       "                3.0,\n",
       "                3.0,\n",
       "                3.0,\n",
       "                3.0,\n",
       "                3.0\n",
       "            ],\n",
       "            \"barCategoryGap\": \"20%\",\n",
       "            \"label\": {\n",
       "                \"normal\": {\n",
       "                    \"show\": false,\n",
       "                    \"position\": \"top\",\n",
       "                    \"textStyle\": {\n",
       "                        \"fontSize\": 12\n",
       "                    }\n",
       "                },\n",
       "                \"emphasis\": {\n",
       "                    \"show\": true,\n",
       "                    \"textStyle\": {\n",
       "                        \"fontSize\": 12\n",
       "                    }\n",
       "                }\n",
       "            },\n",
       "            \"markPoint\": {\n",
       "                \"data\": [\n",
       "                    {\n",
       "                        \"type\": \"max\",\n",
       "                        \"name\": \"Maximum\",\n",
       "                        \"symbol\": \"pin\",\n",
       "                        \"symbolSize\": 50,\n",
       "                        \"label\": {\n",
       "                            \"normal\": {\n",
       "                                \"textStyle\": {\n",
       "                                    \"color\": \"#fff\"\n",
       "                                }\n",
       "                            }\n",
       "                        }\n",
       "                    }\n",
       "                ]\n",
       "            },\n",
       "            \"markLine\": {\n",
       "                \"data\": []\n",
       "            },\n",
       "            \"seriesId\": 7352147\n",
       "        }\n",
       "    ],\n",
       "    \"legend\": [\n",
       "        {\n",
       "            \"data\": [\n",
       "                \"\"\n",
       "            ],\n",
       "            \"selectedMode\": \"multiple\",\n",
       "            \"show\": true,\n",
       "            \"left\": \"center\",\n",
       "            \"top\": \"top\",\n",
       "            \"orient\": \"horizontal\",\n",
       "            \"textStyle\": {\n",
       "                \"fontSize\": 12\n",
       "            }\n",
       "        }\n",
       "    ],\n",
       "    \"animation\": true,\n",
       "    \"xAxis\": [\n",
       "        {\n",
       "            \"show\": true,\n",
       "            \"nameLocation\": \"middle\",\n",
       "            \"nameGap\": 25,\n",
       "            \"nameTextStyle\": {\n",
       "                \"fontSize\": 14\n",
       "            },\n",
       "            \"axisTick\": {\n",
       "                \"alignWithLabel\": false\n",
       "            },\n",
       "            \"inverse\": false,\n",
       "            \"boundaryGap\": true,\n",
       "            \"type\": \"category\",\n",
       "            \"splitLine\": {\n",
       "                \"show\": false\n",
       "            },\n",
       "            \"axisLine\": {\n",
       "                \"lineStyle\": {\n",
       "                    \"width\": 1\n",
       "                }\n",
       "            },\n",
       "            \"axisLabel\": {\n",
       "                \"interval\": \"auto\",\n",
       "                \"rotate\": 0,\n",
       "                \"margin\": 8,\n",
       "                \"textStyle\": {\n",
       "                    \"fontSize\": 12\n",
       "                }\n",
       "            },\n",
       "            \"data\": [\n",
       "                \"\\u5317\\u4eac\",\n",
       "                \"\\u4e0a\\u6d77\",\n",
       "                \"\\u5e7f\\u5dde\",\n",
       "                \"\\u5357\\u4eac\",\n",
       "                \"\\u6df1\\u5733\",\n",
       "                \"\\u6210\\u90fd\",\n",
       "                \"\\u676d\\u5dde\",\n",
       "                \"\\u6b66\\u6c49\",\n",
       "                \"\\u798f\\u5dde\",\n",
       "                \"\\u5927\\u8fde\",\n",
       "                \"\\u897f\\u5b89\",\n",
       "                \"\\u5168\\u56fd\",\n",
       "                \"\\u5408\\u80a5\",\n",
       "                \"\\u5b81\\u6ce2\",\n",
       "                \"\\u82cf\\u5dde\"\n",
       "            ]\n",
       "        }\n",
       "    ],\n",
       "    \"yAxis\": [\n",
       "        {\n",
       "            \"show\": true,\n",
       "            \"nameLocation\": \"middle\",\n",
       "            \"nameGap\": 25,\n",
       "            \"nameTextStyle\": {\n",
       "                \"fontSize\": 14\n",
       "            },\n",
       "            \"axisTick\": {\n",
       "                \"alignWithLabel\": false\n",
       "            },\n",
       "            \"inverse\": false,\n",
       "            \"boundaryGap\": true,\n",
       "            \"type\": \"value\",\n",
       "            \"splitLine\": {\n",
       "                \"show\": true\n",
       "            },\n",
       "            \"axisLine\": {\n",
       "                \"lineStyle\": {\n",
       "                    \"width\": 1\n",
       "                }\n",
       "            },\n",
       "            \"axisLabel\": {\n",
       "                \"interval\": \"auto\",\n",
       "                \"formatter\": \"{value} \",\n",
       "                \"rotate\": 0,\n",
       "                \"margin\": 8,\n",
       "                \"textStyle\": {\n",
       "                    \"fontSize\": 12\n",
       "                }\n",
       "            }\n",
       "        }\n",
       "    ],\n",
       "    \"color\": [\n",
       "        \"#c23531\",\n",
       "        \"#2f4554\",\n",
       "        \"#61a0a8\",\n",
       "        \"#d48265\",\n",
       "        \"#749f83\",\n",
       "        \"#ca8622\",\n",
       "        \"#bda29a\",\n",
       "        \"#6e7074\",\n",
       "        \"#546570\",\n",
       "        \"#c4ccd3\",\n",
       "        \"#f05b72\",\n",
       "        \"#ef5b9c\",\n",
       "        \"#f47920\",\n",
       "        \"#905a3d\",\n",
       "        \"#fab27b\",\n",
       "        \"#2a5caa\",\n",
       "        \"#444693\",\n",
       "        \"#726930\",\n",
       "        \"#b2d235\",\n",
       "        \"#6d8346\",\n",
       "        \"#ac6767\",\n",
       "        \"#1d953f\",\n",
       "        \"#6950a1\",\n",
       "        \"#918597\",\n",
       "        \"#f6f5ec\"\n",
       "    ]\n",
       "};\n",
       "myChart_7a9c36227c3f4650b6dcfe22c22c3dae.setOption(option_7a9c36227c3f4650b6dcfe22c22c3dae);\n",
       "\n",
       "    });\n",
       "</script>\n"
      ],
      "text/plain": [
       "<pyecharts.charts.bar.Bar at 0x2acf5c3c470>"
      ]
     },
     "execution_count": 14,
     "metadata": {},
     "output_type": "execute_result"
    }
   ],
   "source": [
    "bar = pyecharts.Bar('城市与职位数量')\n",
    "bar.add('', city[:15].index, city[:15].values, mark_point=[\"max\"])\n",
    "bar"
   ]
  },
  {
   "cell_type": "code",
   "execution_count": 15,
   "metadata": {},
   "outputs": [
    {
     "data": {
      "text/plain": [
       "city         \n",
       "上海    驰大数据       8\n",
       "      万国数据       4\n",
       "      星环科技       4\n",
       "      朝阳永续       3\n",
       "      长江众创       3\n",
       "全国    凯捷咨询       2\n",
       "      新东方在线      1\n",
       "北京    中科院计算所     7\n",
       "      字节跳动       7\n",
       "      智擎工业大数据    5\n",
       "      小米         4\n",
       "      中国电信北研院    4\n",
       "南京    朗坤智慧       8\n",
       "      雷森科技       4\n",
       "      浦和数据       1\n",
       "      小视科技       1\n",
       "      亚信         1\n",
       "合肥    梦创大数据      2\n",
       "      中科类脑       1\n",
       "大连    拓云科技       1\n",
       "      窝创网络       1\n",
       "      悦视光合       1\n",
       "      文思海辉       1\n",
       "宁波    萌牙         3\n",
       "广州    原力大数据      3\n",
       "      点动信息       2\n",
       "      紫光云        2\n",
       "      火烈鸟网络      2\n",
       "      光大教育       1\n",
       "成都    汇众天智       3\n",
       "      优炫软件       2\n",
       "      极米科技       2\n",
       "      婷宝实业       2\n",
       "      开方数据       1\n",
       "杭州    袋鼠云        2\n",
       "      华信设计       2\n",
       "      阿里健康       2\n",
       "      云集         2\n",
       "      同花顺        2\n",
       "武汉    东软集团       2\n",
       "      小米移动       1\n",
       "      小米         1\n",
       "      亚信软件       1\n",
       "      中新淼大数据     1\n",
       "深圳    腾讯         2\n",
       "      百度         2\n",
       "      中安信业       2\n",
       "      中策大数据      2\n",
       "      歧黄咨询       1\n",
       "福州    南威软件       2\n",
       "      宝宝巴士       1\n",
       "      联迪商用       1\n",
       "      亚信         1\n",
       "苏州    意能通        1\n",
       "      极课大数据      1\n",
       "      员动力        1\n",
       "西安    东软西北大区     1\n",
       "      联想云        1\n",
       "      UPLTV      1\n",
       "Name: cname, dtype: int64"
      ]
     },
     "execution_count": 15,
     "metadata": {},
     "output_type": "execute_result"
    }
   ],
   "source": [
    "def topN(dataframe, n=5):\n",
    "    counts = dataframe.value_counts()\n",
    "    return counts[:n]\n",
    "data_clean.groupby('city').cname.apply(topN).loc[list(city[:15].index)]"
   ]
  },
  {
   "cell_type": "code",
   "execution_count": 16,
   "metadata": {},
   "outputs": [
    {
     "data": {
      "text/plain": [
       "2581.80846325167"
      ]
     },
     "execution_count": 16,
     "metadata": {},
     "output_type": "execute_result"
    }
   ],
   "source": [
    "data_clean['minsal_month'] = data_clean['minsal'] * data_clean['day'] * 4\n",
    "data_clean['minsal_month'].mean()"
   ]
  },
  {
   "cell_type": "code",
   "execution_count": 17,
   "metadata": {},
   "outputs": [
    {
     "data": {
      "text/plain": [
       "3568.890868596882"
      ]
     },
     "execution_count": 17,
     "metadata": {},
     "output_type": "execute_result"
    }
   ],
   "source": [
    "data_clean['maxsal_month'] = data_clean['maxsal'] * data_clean['day'] * 4\n",
    "data_clean['maxsal_month'].mean()"
   ]
  },
  {
   "cell_type": "code",
   "execution_count": 18,
   "metadata": {},
   "outputs": [
    {
     "data": {
      "text/plain": [
       "city\n",
       "哈尔滨    7000.000000\n",
       "沈阳     7000.000000\n",
       "武汉     5066.666667\n",
       "西安     3400.000000\n",
       "合肥     3333.333333\n",
       "厦门     3000.000000\n",
       "宁波     3000.000000\n",
       "济南     3000.000000\n",
       "海口     3000.000000\n",
       "深圳     2910.434783\n",
       "Name: minsal_month, dtype: float64"
      ]
     },
     "execution_count": 18,
     "metadata": {},
     "output_type": "execute_result"
    }
   ],
   "source": [
    "minsalary_by_city = data_clean.groupby('city')['minsal_month'].mean()\n",
    "minsalary_by_city.nlargest(10)"
   ]
  },
  {
   "cell_type": "code",
   "execution_count": 19,
   "metadata": {},
   "outputs": [
    {
     "data": {
      "text/plain": [
       "city\n",
       "哈尔滨    8400.000000\n",
       "沈阳     8400.000000\n",
       "武汉     7600.000000\n",
       "合肥     4666.666667\n",
       "西安     4333.333333\n",
       "福州     4040.000000\n",
       "宁波     4000.000000\n",
       "济南     4000.000000\n",
       "海口     4000.000000\n",
       "深圳     3916.869565\n",
       "Name: maxsal_month, dtype: float64"
      ]
     },
     "execution_count": 19,
     "metadata": {},
     "output_type": "execute_result"
    }
   ],
   "source": [
    "maxsalary_by_city = data_clean.groupby('city')['maxsal_month'].mean()\n",
    "maxsalary_by_city.nlargest(10)"
   ]
  },
  {
   "cell_type": "code",
   "execution_count": 24,
   "metadata": {
    "collapsed": true
   },
   "outputs": [
    {
     "data": {
      "text/plain": [
       "<matplotlib.axes._subplots.AxesSubplot at 0x2acf5c7ccc0>"
      ]
     },
     "execution_count": 24,
     "metadata": {},
     "output_type": "execute_result"
    },
    {
     "data": {
      "image/png": "[encoded data removed]",
      "text/plain": [
       "<Figure size 720x720 with 1 Axes>"
      ]
     },
     "metadata": {
      "needs_background": "light"
     },
     "output_type": "display_data"
    }
   ],
   "source": [
    "sns.violinplot(x ='minsal_month', y ='city', data = data_clean)"
   ]
  },
  {
   "cell_type": "code",
   "execution_count": 25,
   "metadata": {
    "collapsed": true
   },
   "outputs": [
    {
     "data": {
      "text/plain": [
       "<matplotlib.axes._subplots.AxesSubplot at 0x2acf5cdb748>"
      ]
     },
     "execution_count": 25,
     "metadata": {},
     "output_type": "execute_result"
    },
    {
     "data": {
      "image/png": "[encoded data removed]",
      "text/plain": [
       "<Figure size 720x720 with 1 Axes>"
      ]
     },
     "metadata": {
      "needs_background": "light"
     },
     "output_type": "display_data"
    }
   ],
   "source": [
    "sns.violinplot(x ='maxsal_month', y ='city', data = data_clean)"
   ]
  },
  {
   "cell_type": "code",
   "execution_count": 20,
   "metadata": {},
   "outputs": [
    {
     "data": {
      "text/plain": [
       "本科    264\n",
       "不限    100\n",
       "硕士     56\n",
       "大专     28\n",
       "博士      1\n",
       "Name: degree, dtype: int64"
      ]
     },
     "execution_count": 20,
     "metadata": {},
     "output_type": "execute_result"
    }
   ],
   "source": [
    "job_degree = data_clean['degree'].value_counts()\n",
    "job_degree"
   ]
  },
  {
   "cell_type": "code",
   "execution_count": 21,
   "metadata": {},
   "outputs": [
    {
     "data": {
      "text/plain": [
       "degree\n",
       "大专    1971.428571\n",
       "不限    2522.880000\n",
       "本科    2642.090909\n",
       "硕士    2647.000000\n",
       "博士    6000.000000\n",
       "Name: minsal_month, dtype: float64"
      ]
     },
     "execution_count": 21,
     "metadata": {},
     "output_type": "execute_result"
    }
   ],
   "source": [
    "data_clean.groupby('degree')['minsal_month'].mean().sort_values()"
   ]
  },
  {
   "cell_type": "code",
   "execution_count": 22,
   "metadata": {},
   "outputs": [
    {
     "data": {
      "text/plain": [
       "degree\n",
       "大专    2837.142857\n",
       "不限    3372.600000\n",
       "本科    3655.378788\n",
       "硕士    3798.428571\n",
       "博士    8000.000000\n",
       "Name: maxsal_month, dtype: float64"
      ]
     },
     "execution_count": 22,
     "metadata": {},
     "output_type": "execute_result"
    }
   ],
   "source": [
    "data_clean.groupby('degree')['maxsal_month'].mean().sort_values()"
   ]
  },
  {
   "cell_type": "code",
   "execution_count": 23,
   "metadata": {},
   "outputs": [
    {
     "data": {
      "text/plain": [
       "<matplotlib.axes._subplots.AxesSubplot at 0x2acf5c4cc50>"
      ]
     },
     "execution_count": 23,
     "metadata": {},
     "output_type": "execute_result"
    },
    {
     "data": {
      "image/png": "[encoded data removed]",
      "text/plain": [
       "<Figure size 720x720 with 1 Axes>"
      ]
     },
     "metadata": {
      "needs_background": "light"
     },
     "output_type": "display_data"
    }
   ],
   "source": [
    "sns.boxplot(x=\"degree\", y=\"maxsal_month\", data=data_clean)"
   ]
  }
 ],
 "metadata": {
  "kernelspec": {
   "display_name": "Python 3",
   "language": "python",
   "name": "python3"
  },
  "language_info": {
   "codemirror_mode": {
    "name": "ipython",
    "version": 3
   },
   "file_extension": ".py",
   "mimetype": "text/x-python",
   "name": "python",
   "nbconvert_exporter": "python",
   "pygments_lexer": "ipython3",
   "version": "3.6.7"
  }
 },
 "nbformat": 4,
 "nbformat_minor": 1
}
